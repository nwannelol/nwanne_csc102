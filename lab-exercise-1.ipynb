{
 "cells": [
  {
   "cell_type": "markdown",
   "metadata": {},
   "source": [
    "# Egbuna Nwanne\n",
    "# 20120612036;\n",
    "# nwanneegbuna3@gmail.com"
   ]
  },
  {
   "cell_type": "markdown",
   "metadata": {},
   "source": [
    "# exercise 1\n",
    "# writing a python program to get the difference between a givrn number and 17, if the number is greater than 17 return douvle the absolute  difference\n"
   ]
  },
  {
   "cell_type": "code",
   "execution_count": 20,
   "metadata": {},
   "outputs": [
    {
     "name": "stdout",
     "output_type": "stream",
     "text": [
      "2\n"
     ]
    }
   ],
   "source": [
    "a = 15\n",
    "b = 17\n",
    "c = a - b\n",
    "\n",
    "if a < 17 :\n",
    "    print(abs(c))\n",
    "else:\n",
    "    print(c)\n",
    "    "
   ]
  },
  {
   "cell_type": "markdown",
   "metadata": {},
   "source": [
    "# exercise 2\n",
    "# write a python program to calculate the sum of three given numbers, if the values are equal then return thrice of their sum"
   ]
  },
  {
   "cell_type": "code",
   "execution_count": 30,
   "metadata": {},
   "outputs": [
    {
     "name": "stdout",
     "output_type": "stream",
     "text": [
      "18\n"
     ]
    }
   ],
   "source": [
    "q = 2\n",
    "r = 2\n",
    "s = 2\n",
    "\n",
    "if q==r==s :\n",
    "    print ((q +r + s)*3)\n",
    "else:\n",
    "    print(q + r + s)"
   ]
  },
  {
   "cell_type": "markdown",
   "metadata": {},
   "source": [
    "# exercise 3\n",
    "# write a python program which will return true if the two given integer values are equal or their sum or difference is 5"
   ]
  },
  {
   "cell_type": "code",
   "execution_count": 41,
   "metadata": {},
   "outputs": [
    {
     "name": "stdout",
     "output_type": "stream",
     "text": [
      "true\n",
      "true\n",
      "true\n"
     ]
    }
   ],
   "source": [
    "a = 5\n",
    "b = 0\n",
    "\n",
    "if a==b :\n",
    "    print (\"true\")\n",
    "else:\n",
    "    print (\"true\")\n",
    "  \n",
    "    c = a + b\n",
    "    \n",
    "    \n",
    "    if c == 5 :\n",
    "        print(\"true\")\n",
    "    else :\n",
    "        print(a - b)\n",
    "    \n",
    "    d = a-b\n",
    "    \n",
    "    \n",
    "    if d == 5 :\n",
    "        print (\"true\")"
   ]
  },
  {
   "cell_type": "markdown",
   "metadata": {},
   "source": [
    "# exercise 4\n",
    "# write a python program to sort three integers without using conditional statements and loops"
   ]
  },
  {
   "cell_type": "code",
   "execution_count": 62,
   "metadata": {},
   "outputs": [
    {
     "name": "stdout",
     "output_type": "stream",
     "text": [
      "range(0, 15)\n",
      "15\n",
      "2\n",
      "6\n"
     ]
    }
   ],
   "source": [
    "a = 15 \n",
    "print (range(a))\n",
    "b = [2 , 15]\n",
    "print (max(b))\n",
    "print (min(b))\n",
    "\n",
    "middle = int(15 + 2 + 6) -15 - 2\n",
    "print(middle)"
   ]
  },
  {
   "cell_type": "code",
   "execution_count": null,
   "metadata": {},
   "outputs": [],
   "source": []
  }
 ],
 "metadata": {
  "kernelspec": {
   "display_name": "Python 3",
   "language": "python",
   "name": "python3"
  },
  "language_info": {
   "codemirror_mode": {
    "name": "ipython",
    "version": 3
   },
   "file_extension": ".py",
   "mimetype": "text/x-python",
   "name": "python",
   "nbconvert_exporter": "python",
   "pygments_lexer": "ipython3",
   "version": "3.8.5"
  }
 },
 "nbformat": 4,
 "nbformat_minor": 4
}
